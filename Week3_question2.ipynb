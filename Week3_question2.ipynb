{
 "cells": [
  {
   "cell_type": "code",
   "execution_count": 3,
   "metadata": {},
   "outputs": [
    {
     "data": {
      "text/html": [
       "<div style=\"max-height:1000px;max-width:1500px;overflow:auto;\">\n",
       "<table border=\"1\" class=\"dataframe\">\n",
       "  <thead>\n",
       "    <tr style=\"text-align: right;\">\n",
       "      <th></th>\n",
       "      <th>Postalcode</th>\n",
       "      <th>Borough</th>\n",
       "      <th>Neighbourhood</th>\n",
       "      <th>Latitude</th>\n",
       "      <th>Longitude</th>\n",
       "    </tr>\n",
       "  </thead>\n",
       "  <tbody>\n",
       "    <tr>\n",
       "      <th>0</th>\n",
       "      <td> M1B</td>\n",
       "      <td> Scarborough</td>\n",
       "      <td>                         [Malvern, Rouge]</td>\n",
       "      <td> 43.806686</td>\n",
       "      <td>-79.194353</td>\n",
       "    </tr>\n",
       "    <tr>\n",
       "      <th>1</th>\n",
       "      <td> M1C</td>\n",
       "      <td> Scarborough</td>\n",
       "      <td> [Highland Creek, Port Union, Rouge Hill]</td>\n",
       "      <td> 43.784535</td>\n",
       "      <td>-79.160497</td>\n",
       "    </tr>\n",
       "    <tr>\n",
       "      <th>2</th>\n",
       "      <td> M1E</td>\n",
       "      <td> Scarborough</td>\n",
       "      <td>      [Morningside, West Hill, Guildwood]</td>\n",
       "      <td> 43.763573</td>\n",
       "      <td>-79.188711</td>\n",
       "    </tr>\n",
       "    <tr>\n",
       "      <th>3</th>\n",
       "      <td> M1G</td>\n",
       "      <td> Scarborough</td>\n",
       "      <td>                                 [Woburn]</td>\n",
       "      <td> 43.770992</td>\n",
       "      <td>-79.216917</td>\n",
       "    </tr>\n",
       "    <tr>\n",
       "      <th>4</th>\n",
       "      <td> M1H</td>\n",
       "      <td> Scarborough</td>\n",
       "      <td>                              [Cedarbrae]</td>\n",
       "      <td> 43.773136</td>\n",
       "      <td>-79.239476</td>\n",
       "    </tr>\n",
       "  </tbody>\n",
       "</table>\n",
       "</div>"
      ],
      "text/plain": [
       "  Postalcode      Borough                             Neighbourhood  \\\n",
       "0        M1B  Scarborough                          [Malvern, Rouge]   \n",
       "1        M1C  Scarborough  [Highland Creek, Port Union, Rouge Hill]   \n",
       "2        M1E  Scarborough       [Morningside, West Hill, Guildwood]   \n",
       "3        M1G  Scarborough                                  [Woburn]   \n",
       "4        M1H  Scarborough                               [Cedarbrae]   \n",
       "\n",
       "    Latitude  Longitude  \n",
       "0  43.806686 -79.194353  \n",
       "1  43.784535 -79.160497  \n",
       "2  43.763573 -79.188711  \n",
       "3  43.770992 -79.216917  \n",
       "4  43.773136 -79.239476  "
      ]
     },
     "execution_count": 3,
     "metadata": {},
     "output_type": "execute_result"
    }
   ],
   "source": [
    "#This is the answer for Q2 of the assignment for Week3 (Segmenting and Clustering Neighborhoods in Toronto)\n",
    "\n",
    "import pandas as pd\n",
    "\n",
    "file=\"/Users/matias/test4.csv\" \n",
    "df = pd.read_csv(file) #This will read the file which is in csv format at the specified location\n",
    "df = df.query('Borough != \"Not assigned\"')  #This will skip those rows where the column 'Borough' is not assigned\n",
    "df = df.groupby('Postalcode').agg(lambda x: list(set(x))).reset_index() #This will merge more than one neighbourhood if associated to the same Postalcode\n",
    "df['Borough'] = df['Borough'].str.get(0)\n",
    "\n",
    "file2=\"/Users/matias/Downloads/Geospatial_Coordinates.csv\" \n",
    "df2 = pd.read_csv(file2) #This will read the file which is in csv format at the specified location\n",
    "merged = df.merge(df2,how='outer',left_on=['Postalcode'],right_on=[\"Postal Code\"])\n",
    "merged = merged.drop('Postal Code', axis=1) #drop the redundant column\n",
    "\n",
    "merged.head()\n",
    "\n",
    "\n"
   ]
  },
  {
   "cell_type": "code",
   "execution_count": null,
   "metadata": {
    "collapsed": true
   },
   "outputs": [],
   "source": []
  }
 ],
 "metadata": {
  "kernelspec": {
   "display_name": "Python 2",
   "language": "python",
   "name": "python2"
  },
  "language_info": {
   "codemirror_mode": {
    "name": "ipython",
    "version": 2
   },
   "file_extension": ".py",
   "mimetype": "text/x-python",
   "name": "python",
   "nbconvert_exporter": "python",
   "pygments_lexer": "ipython2",
   "version": "2.7.16"
  }
 },
 "nbformat": 4,
 "nbformat_minor": 2
}
